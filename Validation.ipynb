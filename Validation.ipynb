{
  "nbformat": 4,
  "nbformat_minor": 0,
  "metadata": {
    "colab": {
      "name": "Validation.ipynb",
      "provenance": [],
      "collapsed_sections": []
    },
    "kernelspec": {
      "name": "python3",
      "display_name": "Python 3"
    }
  },
  "cells": [
    {
      "cell_type": "code",
      "metadata": {
        "id": "NcXr9B2b8wnk",
        "colab_type": "code",
        "outputId": "4d676830-f9a3-4ced-c21f-d1cc62262943",
        "colab": {
          "base_uri": "https://localhost:8080/",
          "height": 255
        }
      },
      "source": [
        "import pandas as pd\n",
        "import numpy as np\n",
        "\n",
        "data = pd.read_csv('/content/First_Check.csv.txt')\n",
        "data.dropna(how='all')\n",
        "missing=pd.DataFrame()\n",
        "print(missing)\n",
        "missing['Per']=((data.isnull() | data.isna()).sum() * 100 / data.index.size).round(2)\n",
        "print(missing)\n",
        "missing_drop=missing[missing.Per > 50]\n",
        "# Identify Columns for which percentage of missing values is less than 50.Fix Those Columns.\n",
        "missing_replace=missing[(missing.Per < 50)]\n",
        "print(missing_drop)\n",
        "print(missing_replace)\n",
        "#data.fillna(0)\n",
        "#data.drop_duplicates(keep='last',inplace=True)   \n",
        "#print(data)"
      ],
      "execution_count": 0,
      "outputs": [
        {
          "output_type": "stream",
          "text": [
            "Empty DataFrame\n",
            "Columns: []\n",
            "Index: []\n",
            "           Per\n",
            "Name      0.00\n",
            "Dept      8.33\n",
            "Salary    0.00\n",
            "Climate  58.33\n",
            "           Per\n",
            "Climate  58.33\n",
            "         Per\n",
            "Name    0.00\n",
            "Dept    8.33\n",
            "Salary  0.00\n"
          ],
          "name": "stdout"
        }
      ]
    },
    {
      "cell_type": "code",
      "metadata": {
        "id": "g7o1G-3-zLGG",
        "colab_type": "code",
        "outputId": "0ab991f6-b00a-4e7a-d85a-0090c64d6acb",
        "colab": {
          "base_uri": "https://localhost:8080/",
          "height": 394
        }
      },
      "source": [
        "#Profiling\n",
        "import pandas as pd\n",
        "import numpy as np\n",
        "!pip install pandas-profiling\n",
        "import pandas_profiling as pp\n",
        "\n",
        "def profile_function(filepath):\n",
        "  data=pd.read_csv(filepath)\n",
        "  data.dropna(how='all')\n",
        "  print(data)\n",
        "  profile=pp.ProfileReport(data)\n",
        "  profile.to_file(\"data_new_profile_new.html\")\n",
        "  print(\"END_FUNCTION\")\n",
        "\n",
        "profile_function('/content/yuvas.csv.txt')\n",
        "\n"
      ],
      "execution_count": 0,
      "outputs": [
        {
          "output_type": "stream",
          "text": [
            "Requirement already satisfied: pandas-profiling in /usr/local/lib/python3.6/dist-packages (1.4.1)\n",
            "Requirement already satisfied: jinja2>=2.8 in /usr/local/lib/python3.6/dist-packages (from pandas-profiling) (2.10.1)\n",
            "Requirement already satisfied: pandas>=0.19 in /usr/local/lib/python3.6/dist-packages (from pandas-profiling) (0.24.2)\n",
            "Requirement already satisfied: six>=1.9 in /usr/local/lib/python3.6/dist-packages (from pandas-profiling) (1.12.0)\n",
            "Requirement already satisfied: matplotlib>=1.4 in /usr/local/lib/python3.6/dist-packages (from pandas-profiling) (3.0.3)\n",
            "Requirement already satisfied: MarkupSafe>=0.23 in /usr/local/lib/python3.6/dist-packages (from jinja2>=2.8->pandas-profiling) (1.1.1)\n",
            "Requirement already satisfied: numpy>=1.12.0 in /usr/local/lib/python3.6/dist-packages (from pandas>=0.19->pandas-profiling) (1.16.5)\n",
            "Requirement already satisfied: pytz>=2011k in /usr/local/lib/python3.6/dist-packages (from pandas>=0.19->pandas-profiling) (2018.9)\n",
            "Requirement already satisfied: python-dateutil>=2.5.0 in /usr/local/lib/python3.6/dist-packages (from pandas>=0.19->pandas-profiling) (2.5.3)\n",
            "Requirement already satisfied: kiwisolver>=1.0.1 in /usr/local/lib/python3.6/dist-packages (from matplotlib>=1.4->pandas-profiling) (1.1.0)\n",
            "Requirement already satisfied: pyparsing!=2.0.4,!=2.1.2,!=2.1.6,>=2.0.1 in /usr/local/lib/python3.6/dist-packages (from matplotlib>=1.4->pandas-profiling) (2.4.2)\n",
            "Requirement already satisfied: cycler>=0.10 in /usr/local/lib/python3.6/dist-packages (from matplotlib>=1.4->pandas-profiling) (0.10.0)\n",
            "Requirement already satisfied: setuptools in /usr/local/lib/python3.6/dist-packages (from kiwisolver>=1.0.1->matplotlib>=1.4->pandas-profiling) (41.2.0)\n",
            "             Name Hire Date   Salary  Sick Days remaining\n",
            "0  Graham Chapman  03/15/14  50000.0                   10\n",
            "1     John Cleese  06/01/15  65000.0                    8\n",
            "2       Eric Idle  05/12/14  45000.0                   10\n",
            "3     Terry Jones  11/01/13  70000.0                    3\n",
            "4   Terry Gilliam  08/12/14  48000.0                    7\n",
            "5   Michael Palin  05/23/13  66000.0                    8\n",
            "END_FUNCTION\n"
          ],
          "name": "stdout"
        }
      ]
    },
    {
      "cell_type": "code",
      "metadata": {
        "id": "x0KFWKe_sfc1",
        "colab_type": "code",
        "outputId": "5c0b6a3c-8309-4bdf-f235-99abf1654f90",
        "colab": {
          "base_uri": "https://localhost:8080/",
          "height": 136
        }
      },
      "source": [
        "import pandas as pd\n",
        "import numpy as np\n",
        "\n",
        "data = pd.read_csv('/content/First_Check.csv.txt')\n",
        "data.dropna(how='all')\n",
        "data.drop_duplicates(keep='last',inplace=True)  \n",
        "missing=pd.DataFrame()\n",
        "missing['Per']=((data.isnull() | data.isna()).sum() * 100 / data.index.size).round(2)\n",
        "print(missing)\n",
        "missing_drop=missing[missing.Per >= 50]\n",
        "print(missing_drop)\n",
        "\n",
        "\n"
      ],
      "execution_count": 0,
      "outputs": [
        {
          "output_type": "stream",
          "text": [
            "           Per\n",
            "Name      0.00\n",
            "Dept      8.33\n",
            "Salary    0.00\n",
            "Climate  58.33\n",
            "           Per\n",
            "Climate  58.33\n"
          ],
          "name": "stdout"
        }
      ]
    }
  ]
}